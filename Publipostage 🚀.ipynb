{
 "cells": [
  {
   "cell_type": "markdown",
   "id": "8405b03e",
   "metadata": {},
   "source": [
    "<h2 style=\"border: 2px solid black;background-color: #ffffff;\n",
    "background-image: linear-gradient(315deg, #ffffff 0%, #d7e1ec 74%);\"><div style=\"text-align: center;height: 40px;line-height: 40px;\">Publipostage 🚀:</div></h2>"
   ]
  },
  {
   "cell_type": "code",
   "execution_count": 15,
   "id": "33eb0839",
   "metadata": {},
   "outputs": [],
   "source": [
    "# ----------------------------------------------------Librairies----------------------------------------------------------\n",
    "import os\n",
    "import pandas as pd\n",
    "try:\n",
    "    import win32com.client as win32\n",
    "except Exception as e:\n",
    "    os.system(\"pip install pywin32\")\n",
    "import ipywidgets as widgets\n",
    "from ipywidgets import interact, interact_manual\n",
    "from IPython.display import display, Markdown, clear_output, HTML\n",
    "from datetime import datetime, timedelta    \n",
    "from os import listdir\n",
    "from os.path import isfile, join\n",
    "import sys\n",
    "try:\n",
    "    import pyautogui\n",
    "except Exception as e:\n",
    "    os.system(\"pip install pyautogui\")"
   ]
  },
  {
   "cell_type": "code",
   "execution_count": 16,
   "id": "4e02953b",
   "metadata": {},
   "outputs": [],
   "source": [
    "# ----------------------------------------------------Fonctions----------------------------------------------------------\n",
    "def send_mail(text, subject, recipient, mail_cc, attach_path):\n",
    "    outlook = win32.Dispatch('outlook.application')\n",
    "    mail = outlook.CreateItem(0)\n",
    "    mail.To = recipient\n",
    "    mail.Cc = mail_cc\n",
    "    mail.Subject = subject\n",
    "    mail.Attachments.Add(attach_path)\n",
    "    mail.HtmlBody = text\n",
    "    mail.Display(True)\n",
    "\n",
    "def main(date_closing, date_reglement, subject_mail, cc_mail, text_mail, client_path, pdf_path):\n",
    "    # Fichier souscripteurs\n",
    "    pdf_files = [f for f in listdir(pdf_path) if isfile(join(pdf_path, f))]\n",
    "    df_client = pd.read_excel(client_path, header=1).dropna(subset=['Numéro de compte'])\n",
    "    status_df = pd.DataFrame([])\n",
    "    for i, client in df_client.iterrows():\n",
    "        copie_mail = cc_mail\n",
    "        num_compte = client['Numéro de compte']\n",
    "        mail_cgp = client['mail distributeur']\n",
    "        mail_client = client['Email']\n",
    "        pdf = ''.join([file for file in pdf_files if file == num_compte + '.pdf'])\n",
    "        if pdf != '':\n",
    "            attach_path = pdf_path + \"\\\\\" + pdf\n",
    "            mail_cc = copie_mail + '; ' + mail_cgp\n",
    "            send_mail(text_mail.format(str(date_closing), str(date_reglement)), subject_mail.format(str(date_closing)), mail_client, mail_cc, attach_path)\n",
    "            status_df = pd.concat([status_df, pd.DataFrame([[num_compte, mail_client, 'OK']], columns=['Numeros', 'Mail Client', 'Status'])])\n",
    "        else:\n",
    "            status_df = pd.concat([status_df, pd.DataFrame([[num_compte, mail_client, 'NO']], columns=['Numeros', 'Mail Client', 'Status'])])\n",
    "    return status_df"
   ]
  },
  {
   "cell_type": "code",
   "execution_count": 17,
   "id": "4b4cca41",
   "metadata": {
    "scrolled": true
   },
   "outputs": [
    {
     "data": {
      "application/vnd.jupyter.widget-view+json": {
       "model_id": "a65a84bc01194eb3a38ca36587e91838",
       "version_major": 2,
       "version_minor": 0
      },
      "text/plain": [
       "VBox(children=(DatePicker(value=Timestamp('2022-05-23 00:00:00'), description='Closing:'), DatePicker(value=Ti…"
      ]
     },
     "metadata": {},
     "output_type": "display_data"
    }
   ],
   "source": [
    "# ----------------------------------------------------Widgets----------------------------------------------------------\n",
    "layout = widgets.Layout(flex='0 1 auto', height='30px', min_height='40px', width='auto')\n",
    "# Date du closing\n",
    "date_closing=widgets.DatePicker(description='Closing:',value=pd.to_datetime(datetime.today().date()))\n",
    "# Date fin de reglement\n",
    "date_reglement=widgets.DatePicker(description='Réglement:',value=pd.to_datetime(datetime.today().date()))\n",
    "# Chemin\n",
    "# client_path = r'\\\\192.168.68.9\\Commun_IS\\MDC\\Service Client\\3. Private Stars Selection II\\2_Bulletin de souscription\\tableau suivi souscripteurs.xlsx'\n",
    "client_path = widgets.Text(value=r'C:\\Users\\joan.serfaty\\Desktop\\tableau suivi souscripteurs.xlsx', description='Fichier Excel:', layout=layout)\n",
    "pdf_path = widgets.Text(value=r'\\\\192.168.68.9\\Commun_IS\\Gestion\\Gestion diversifiée\\PSS2\\PASSIF\\20220331_PSS2_CLOSING2', description='PDF:', layout=layout)\n",
    "\n",
    "# cc\n",
    "cc_mail = widgets.Text(value=\"\"\"percilia.antunes@sanso-is.com; pierre.burnand@sanso-is.com; Estelle.COTTENCON@sanso-is.com\"\"\", description='Email en CC:', layout=layout)\n",
    "# Sujet\n",
    "subject_mail = widgets.Text(value=\"\"\"Notice d’appel du 2ème closing - {0}\"\"\", description='Sujet : ', layout=layout)\n",
    "# Body\n",
    "text_mail = widgets.Text(value= \"\"\"\n",
    "Bonjour,<br><br>\n",
    "\n",
    "Nous vous prions de trouver ci-joint la notice d’appel à la suite du 2ème closing du {0}.<br>\n",
    "Merci de procéder au règlement au plus tard le {1}.\n",
    "<p><i><u>Attention :</u> Le règlement doit être versé uniquement sur le RIB du FCPI Private Stars Selection 2 transmis dans cette notice. Ce RIB restera inchangé tout au long de la vie du fonds.</p></i>\n",
    "Les équipes de Sanso IS restent à votre disposition pour toute information complémentaire.<br>\n",
    "Bien cordialement, <br><br>\n",
    "Sanso\n",
    "\"\"\", description='Corps :', layout = layout)\n",
    "\n",
    "# Button & Output\n",
    "button = widgets.Button(description='Launch',button_style='success')\n",
    "#button_stop = widgets.Button(description='Stop',button_style='danger')\n",
    "out = widgets.Output()\n",
    "\n",
    "def on_button_clicked(_):\n",
    "      with out:\n",
    "        dte_closing = pd.to_datetime(date_closing.value).date()\n",
    "        dte_reglement = pd.to_datetime(date_reglement.value).date()\n",
    "        copie_mail = cc_mail.value\n",
    "        sub_mail = subject_mail.value\n",
    "        body_mail = text_mail.value\n",
    "        excel_path = client_path.value\n",
    "        pdff_path = pdf_path.value\n",
    "        tab = main(dte_closing, dte_reglement, sub_mail, copie_mail, body_mail, excel_path, pdff_path)\n",
    "        clear_output(wait=True)\n",
    "        tab\n",
    "\n",
    "        \n",
    "# We link the form and the output\n",
    "button.on_click(on_button_clicked)\n",
    "\n",
    "widgets.VBox([date_closing, date_reglement, subject_mail, cc_mail, text_mail, client_path, pdf_path, button, out])"
   ]
  },
  {
   "cell_type": "code",
   "execution_count": 18,
   "id": "5820f2d6",
   "metadata": {},
   "outputs": [
    {
     "data": {
      "text/html": [
       "<script>\n",
       "code_show=true; \n",
       "function code_toggle() {\n",
       " if (code_show){\n",
       " $('div.input').hide();\n",
       " } else {\n",
       " $('div.input').show();\n",
       " }\n",
       " code_show = !code_show\n",
       "} \n",
       "$( document ).ready(code_toggle);\n",
       "</script>\n",
       "<form action=\"javascript:code_toggle()\"><input type=\"submit\" value=\"Show/ Hide code.\"></form>"
      ],
      "text/plain": [
       "<IPython.core.display.HTML object>"
      ]
     },
     "execution_count": 18,
     "metadata": {},
     "output_type": "execute_result"
    }
   ],
   "source": [
    "HTML('''<script>\n",
    "code_show=true; \n",
    "function code_toggle() {\n",
    " if (code_show){\n",
    " $('div.input').hide();\n",
    " } else {\n",
    " $('div.input').show();\n",
    " }\n",
    " code_show = !code_show\n",
    "} \n",
    "$( document ).ready(code_toggle);\n",
    "</script>\n",
    "<form action=\"javascript:code_toggle()\"><input type=\"submit\" value=\"Show/ Hide code.\"></form>''')\n"
   ]
  },
  {
   "cell_type": "code",
   "execution_count": 9,
   "id": "a97ffe48",
   "metadata": {},
   "outputs": [
    {
     "data": {
      "text/html": [
       "<script> </script> <form action=\"javascript:IPython.notebook.execute_cells_above()\"><input type=\"submit\" id=\"toggleButton\" value=\"Run all Jupyter Cells\"></form>"
      ],
      "text/plain": [
       "<IPython.core.display.HTML object>"
      ]
     },
     "execution_count": 9,
     "metadata": {},
     "output_type": "execute_result"
    }
   ],
   "source": [
    "from IPython.core.display import display, HTML\n",
    "HTML('''<script> </script> <form action=\"javascript:IPython.notebook.execute_cells_above()\"><input type=\"submit\" id=\"toggleButton\" value=\"Run all Jupyter Cells\"></form>''')"
   ]
  }
 ],
 "metadata": {
  "kernelspec": {
   "display_name": "Python 3",
   "language": "python",
   "name": "python3"
  },
  "language_info": {
   "codemirror_mode": {
    "name": "ipython",
    "version": 3
   },
   "file_extension": ".py",
   "mimetype": "text/x-python",
   "name": "python",
   "nbconvert_exporter": "python",
   "pygments_lexer": "ipython3",
   "version": "3.8.8"
  }
 },
 "nbformat": 4,
 "nbformat_minor": 5
}
